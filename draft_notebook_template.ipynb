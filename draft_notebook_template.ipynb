{
 "cells": [
  {
   "cell_type": "markdown",
   "id": "5d68c809-d70e-4226-a733-7611261b5fed",
   "metadata": {},
   "source": [
    "# Phase 5 Capstone\n",
    "\n",
    "# Predicting Obesity/ Obesity Prediction\n",
    "\n",
    "- Student name: Lucas Wilkerson\n",
    "- Student pace: Flex/part time\n",
    "- Scheduled project review date/time:\n",
    "- Instructor name: Morgan Jones"
   ]
  },
  {
   "cell_type": "markdown",
   "id": "6fe8f3c2-9820-4562-a036-6b4ce56a0372",
   "metadata": {},
   "source": [
    "## Business Understanding "
   ]
  },
  {
   "cell_type": "markdown",
   "id": "747b73e7-72a8-4193-8d0d-995acbfa9596",
   "metadata": {},
   "source": [
    "## Data Understanding "
   ]
  },
  {
   "cell_type": "markdown",
   "id": "3dad47af-e11b-40b0-bd3d-65e756e9f9e5",
   "metadata": {},
   "source": [
    "## Data Preparation"
   ]
  },
  {
   "cell_type": "markdown",
   "id": "1803fa11-ce21-4c61-adc6-801dd67e85b1",
   "metadata": {},
   "source": [
    "## Modeling"
   ]
  },
  {
   "cell_type": "markdown",
   "id": "ba957216-7429-45ce-890b-5eaedb36f263",
   "metadata": {},
   "source": [
    "## Evaluation"
   ]
  },
  {
   "cell_type": "markdown",
   "id": "c0217ae9-6807-4d26-9f57-ea89211d6eef",
   "metadata": {},
   "source": [
    "## Deployment"
   ]
  },
  {
   "cell_type": "code",
   "execution_count": null,
   "id": "964d4eee-fdf1-4426-b5e9-61c61d063fa8",
   "metadata": {
    "collapsed": true,
    "jupyter": {
     "outputs_hidden": true
    }
   },
   "outputs": [],
   "source": [
    "# importing necessary packages\n",
    "import pandas as pd\n",
    "import numpy as np\n",
    "import matplotlib.pyplot as plt\n",
    "import seaborn as sns\n",
    "import os"
   ]
  },
  {
   "cell_type": "code",
   "execution_count": null,
   "id": "a2339d5c-0864-4335-9ed4-1bfa6eff1252",
   "metadata": {},
   "outputs": [],
   "source": []
  },
  {
   "cell_type": "code",
   "execution_count": null,
   "id": "a8f69521-da2d-492a-affe-30fbe8686b14",
   "metadata": {},
   "outputs": [],
   "source": []
  },
  {
   "cell_type": "code",
   "execution_count": null,
   "id": "a8aac910-f70a-41f2-9912-59997bc02713",
   "metadata": {},
   "outputs": [],
   "source": []
  },
  {
   "cell_type": "code",
   "execution_count": null,
   "id": "f40cd87d-e260-43dd-886b-e07ffe9a31c2",
   "metadata": {},
   "outputs": [],
   "source": []
  }
 ],
 "metadata": {
  "kernelspec": {
   "display_name": "Python (spark-env)",
   "language": "python",
   "name": "spark-env"
  },
  "language_info": {
   "codemirror_mode": {
    "name": "ipython",
    "version": 3
   },
   "file_extension": ".py",
   "mimetype": "text/x-python",
   "name": "python",
   "nbconvert_exporter": "python",
   "pygments_lexer": "ipython3",
   "version": "3.8.18"
  }
 },
 "nbformat": 4,
 "nbformat_minor": 5
}
